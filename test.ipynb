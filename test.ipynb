{
 "cells": [
  {
   "cell_type": "code",
   "execution_count": 81,
   "metadata": {},
   "outputs": [],
   "source": [
    "import numpy as np\n",
    "import matplotlib.pyplot as plt\n",
    "from math import ceil\n",
    "from scipy.stats import truncnorm\n",
    "\n",
    "from tensorflow.examples.tutorials.mnist import input_data\n",
    "import tensorflow as tf"
   ]
  },
  {
   "cell_type": "code",
   "execution_count": 39,
   "metadata": {},
   "outputs": [
    {
     "name": "stdout",
     "output_type": "stream",
     "text": [
      "Extracting /tmp/tensorflow/mnist/input_data/train-images-idx3-ubyte.gz\n",
      "Extracting /tmp/tensorflow/mnist/input_data/train-labels-idx1-ubyte.gz\n",
      "Extracting /tmp/tensorflow/mnist/input_data/t10k-images-idx3-ubyte.gz\n",
      "Extracting /tmp/tensorflow/mnist/input_data/t10k-labels-idx1-ubyte.gz\n"
     ]
    }
   ],
   "source": [
    "path = '/tmp/tensorflow/mnist/input_data'\n",
    "mnist = input_data.read_data_sets(path, one_hot=True)"
   ]
  },
  {
   "cell_type": "code",
   "execution_count": null,
   "metadata": {},
   "outputs": [],
   "source": [
    "def softmax(x):\n",
    "    \"\"\"Compute the softmax of x.\"\"\"\n",
    "    e_x = np.exp(x)\n",
    "    return e_x / e_x.sum()"
   ]
  },
  {
   "cell_type": "code",
   "execution_count": null,
   "metadata": {},
   "outputs": [],
   "source": [
    "def weight_variable(shape):\n",
    "    \"\"\"\n",
    "    Initialize weight matrices with truncated normal distribution with standard deviation of 0.1.\n",
    "\n",
    "    In general, shape = [filter_height, filter_width, in_channels, out_channels].\n",
    "    \"\"\"\n",
    "    stddev = 0.1\n",
    "    size = 1\n",
    "    for dim in shape:\n",
    "        size *= dim\n",
    "    return truncnorm.rvs(-2 * stddev, 2 * stddev, size=size).reshape(shape)\n",
    "\n",
    "def bias_variable(shape):\n",
    "    \"\"\"\n",
    "    Initialize bias vectors with constant value of 0.1.\n",
    "\n",
    "    In general, shape = [out_channels].\n",
    "    \"\"\"\n",
    "    const = 0.1\n",
    "    return np.full(shape, const)"
   ]
  },
  {
   "cell_type": "code",
   "execution_count": 82,
   "metadata": {},
   "outputs": [],
   "source": [
    "def conv_2d(x, W):\n",
    "    \"\"\"2D convolution of x with filter W, unit stride.\"\"\"\n",
    "    strides = [1, 1, 1, 1]\n",
    "    # Pad rows and columns of x with zeros so that dim(x) is unchanged.\n",
    "    pad_ncols = W.shape[0] - ((x.shape[1] - 1) % strides[1]) - 1\n",
    "    pad_nrows = W.shape[1] - ((x.shape[2] - 1) % strides[2]) - 1\n",
    "    x_pad = np.pad(x, [(0, 0), (0, pad_ncols), (0, pad_nrows), (0, 0)], mode='constant')\n",
    "    # Slide filter W across x and perform convolution.\n",
    "    conv2d_output = np.empty(x.shape[:-1] + W.shape[-1:], dtype = x.dtype)\n",
    "    batch_size, nrows, ncols, out_channels = conv2d_output.shape\n",
    "    for b in range(batch_size):\n",
    "        for i in range(nrows):\n",
    "            stride_i = strides[1] * i\n",
    "            for j in range(ncols):\n",
    "                stride_j = strides[2] * j\n",
    "                for out_c in range(out_channels):\n",
    "                    conv2d_output[b, i, j, out_c] = (x_pad[b, stride_i:stride_i + W.shape[0], stride_j:stride_j + W.shape[1], :] * W[::-1, ::-1, :, out_c]).sum()\n",
    "    return conv2d_output\n",
    "\n",
    "def max_pool_2x2(x):\n",
    "    \"\"\"2x2 max pooling layer with non-overlapping kernel stride.\"\"\"\n",
    "    ksize = [1, 2, 2, 1]\n",
    "    strides = [1, 2, 2, 1]\n",
    "    # Pad rows and columns of x with zeros if necessary.\n",
    "    pad_ncols = ksize[1] - ((x.shape[1] - 1) % strides[1]) - 1\n",
    "    pad_nrows = ksize[2] - ((x.shape[2] - 1) % strides[2]) - 1\n",
    "    x_pad = np.pad(x, [(0, 0), (0, pad_ncols), (0, pad_nrows), (0, 0)], mode='constant')\n",
    "    batch_size, nrows, ncols, out_channels = x.shape\n",
    "    # Slide kernel across x and perform pooling to decrease dim(x).\n",
    "    nrows = ceil(x.shape[1] / strides[1])\n",
    "    ncols = ceil(x.shape[2] / strides[2])\n",
    "    pool_output = np.empty([batch_size, nrows, ncols, out_channels], dtype = x.dtype)\n",
    "    for b in range(batch_size):\n",
    "        for i in range(nrows):\n",
    "            stride_i = strides[1] * i\n",
    "            for j in range(ncols):\n",
    "                stride_j = strides[2] * j\n",
    "                for out_c in range(out_channels):\n",
    "                    pool_output[b, i, j, out_c] = x_pad[b, stride_i:stride_i + ksize[1], stride_j:stride_j + ksize[2], out_c].max()\n",
    "    return pool_output\n",
    "\n",
    "def flatten(x):\n",
    "    \"\"\"Flatten tensor to shape [batch_size, x_height * x_width * in_channels].\"\"\"\n",
    "    size = 1\n",
    "    for dim in x.shape[1:]:\n",
    "        size *= dim\n",
    "    return x.reshape((x.shape[0], size))\n",
    "\n",
    "def full_conn(x, W):\n",
    "    \"\"\"Fully connected layer.\"\"\"\n",
    "    return np.matmul(x, W)"
   ]
  },
  {
   "cell_type": "code",
   "execution_count": 12,
   "metadata": {},
   "outputs": [],
   "source": [
    "sess = tf.InteractiveSession()"
   ]
  },
  {
   "cell_type": "code",
   "execution_count": 42,
   "metadata": {},
   "outputs": [],
   "source": [
    "x = np.array(range(16), dtype = np.float32).reshape([1, 4, 4, 1])\n",
    "W = np.full((3, 3, 1, 2), 0.5, dtype = np.float32)"
   ]
  },
  {
   "cell_type": "code",
   "execution_count": 43,
   "metadata": {},
   "outputs": [
    {
     "data": {
      "text/plain": [
       "array([[[[ 0.],\n",
       "         [ 1.],\n",
       "         [ 2.],\n",
       "         [ 3.],\n",
       "         [ 0.],\n",
       "         [ 0.]],\n",
       "\n",
       "        [[ 4.],\n",
       "         [ 5.],\n",
       "         [ 6.],\n",
       "         [ 7.],\n",
       "         [ 0.],\n",
       "         [ 0.]],\n",
       "\n",
       "        [[ 8.],\n",
       "         [ 9.],\n",
       "         [10.],\n",
       "         [11.],\n",
       "         [ 0.],\n",
       "         [ 0.]],\n",
       "\n",
       "        [[12.],\n",
       "         [13.],\n",
       "         [14.],\n",
       "         [15.],\n",
       "         [ 0.],\n",
       "         [ 0.]],\n",
       "\n",
       "        [[ 0.],\n",
       "         [ 0.],\n",
       "         [ 0.],\n",
       "         [ 0.],\n",
       "         [ 0.],\n",
       "         [ 0.]],\n",
       "\n",
       "        [[ 0.],\n",
       "         [ 0.],\n",
       "         [ 0.],\n",
       "         [ 0.],\n",
       "         [ 0.],\n",
       "         [ 0.]]]], dtype=float32)"
      ]
     },
     "execution_count": 43,
     "metadata": {},
     "output_type": "execute_result"
    }
   ],
   "source": [
    "strides = [1, 1, 1, 1]\n",
    "pad_ncols = (strides[1] - 1) * (x.shape[1] - 1) + (W.shape[0] - 1)\n",
    "pad_nrows = (strides[2] - 1) * (x.shape[2] - 1) + (W.shape[1] - 1)\n",
    "x_pad = np.pad(x, [(0, 0), (0, pad_ncols), (0, pad_nrows), (0, 0)], mode='constant')\n",
    "x_pad"
   ]
  },
  {
   "cell_type": "code",
   "execution_count": 84,
   "metadata": {},
   "outputs": [
    {
     "data": {
      "text/plain": [
       "(1, 2, 2, 2)"
      ]
     },
     "execution_count": 84,
     "metadata": {},
     "output_type": "execute_result"
    }
   ],
   "source": [
    "max_pool_2x2(conv_2d(x, W)).shape"
   ]
  },
  {
   "cell_type": "code",
   "execution_count": null,
   "metadata": {},
   "outputs": [],
   "source": []
  }
 ],
 "metadata": {
  "kernelspec": {
   "display_name": "Python 3",
   "language": "python",
   "name": "python3"
  },
  "language_info": {
   "codemirror_mode": {
    "name": "ipython",
    "version": 3
   },
   "file_extension": ".py",
   "mimetype": "text/x-python",
   "name": "python",
   "nbconvert_exporter": "python",
   "pygments_lexer": "ipython3",
   "version": "3.6.4"
  }
 },
 "nbformat": 4,
 "nbformat_minor": 2
}
